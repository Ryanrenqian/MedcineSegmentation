{
 "cells": [
  {
   "cell_type": "code",
   "execution_count": 10,
   "metadata": {},
   "outputs": [
    {
     "name": "stdout",
     "output_type": "stream",
     "text": [
      "total slide : 129\n"
     ]
    }
   ],
   "source": [
    "import os\n",
    "import torch\n",
    "import math\n",
    "from  torch.nn import functional as F\n",
    "import openslide\n",
    "from  scannet import Scannet\n",
    "import PIL\n",
    "import numpy as np\n",
    "from  torchvision import transforms\n",
    "from  torch.autograd import Variable\n",
    "import time\n",
    "import glob,os\n",
    "from  skimage.color import rgb2hsv\n",
    "from  skimage.filters import threshold_otsu\n",
    "test_slide_folder = '/root/workspace/dataset/CAMELYON16/testing/images/'\n",
    "test_slide_annotation_folder = '/root/workspace/dataset/CAMELYON16/testing/lesion_annotations/'\n",
    "\n",
    "train_slide_folder = '/root/workspace/dataset/CAMELYON16/training/*'\n",
    "train_slide_annotation_folder = '/root/workspace/dataset/CAMELYON16/training/lesion_annotations/'\n",
    "slide_list = glob.glob(os.path.join(test_slide_folder, '*.tif'))\n",
    "slide_list.sort()\n",
    "otsu_npy = '/root/workspace/huangxs/prepare_data/16/wsi_otsu_save/test_resize_64'\n",
    "print('total slide : %d' % len(slide_list))\n",
    "\n",
    "\n",
    "\n"
   ]
  },
  {
   "cell_type": "code",
   "execution_count": null,
   "metadata": {},
   "outputs": [],
   "source": [
    "def pre_select(npy_path,max_k=40):\n",
    "    mask = np.load(npy_path)\n",
    "    locs=[]\n",
    "    while(mask.sum()!=0):\n",
    "        forward = np.where(mask==True)\n",
    "        x,y = forward[0][0],forward[1][0]\n",
    "        width = (max_k*32 +260)/64\n",
    "        length = (max_k*32 +260)/64\n",
    "        mask[x-int(width/2):x+int(width/2),y-int(length/2):y+int(length/2)]=False\n",
    "        locs.append((x*64,y*64))\n",
    "    print(len(locs))\n",
    "    return locs\n",
    "st = time.time()\n",
    "locs=pre_select(os.path.join(otsu_npy,'test_001_resize_64.npy'))\n",
    "ed = time.time()\n",
    "print(ed-st)"
   ]
  },
  {
   "cell_type": "code",
   "execution_count": null,
   "metadata": {},
   "outputs": [],
   "source": []
  }
 ],
 "metadata": {
  "kernelspec": {
   "display_name": "Python 3",
   "language": "python",
   "name": "python3"
  },
  "language_info": {
   "codemirror_mode": {
    "name": "ipython",
    "version": 3
   },
   "file_extension": ".py",
   "mimetype": "text/x-python",
   "name": "python",
   "nbconvert_exporter": "python",
   "pygments_lexer": "ipython3",
   "version": "3.6.8"
  }
 },
 "nbformat": 4,
 "nbformat_minor": 4
}
