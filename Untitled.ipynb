{
 "cells": [
  {
   "cell_type": "code",
   "execution_count": 1,
   "metadata": {},
   "outputs": [],
   "source": [
    "import torch\n",
    "import math\n",
    "from  torch.nn import functional as F\n",
    "import openslide\n",
    "class PostScan():\n",
    "    def __init__(self, scannet, dense_coefficient=2, maxpools=5, stride=2):\n",
    "        '''\n",
    "\n",
    "        :param scannet: scannet 模型\n",
    "        :param dpt_size: 输出dpt的大小\n",
    "        :param dense_coefficient: DPTs/OPTs的尺寸比例\n",
    "        :param maxpools: 最大池化层数\n",
    "        :param stride: 模型步长\n",
    "        '''\n",
    "        self.model = scannet\n",
    "        self.alpha = dense_coefficient # ratio between the size of DPTs and the size of OPT\n",
    "        self.sf = math.pow(stride, maxpools)  # 求出的Sf是FCN的滑动步长 inner stride of scannet\n",
    "        self.sd = self.sf / self.alpha  # 偏移量Sd\n",
    "        self.lf = 244  # 输入Scannet的概率图\n",
    "\n",
    "\n",
    "    def inner_scan(self,roi):\n",
    "        '''\n",
    "        设定的roi是PIL.Image类\n",
    "        Lr = Lf + (Lp -1) * Sf; Sr = Sf *Lp\n",
    "        假设Lr = 2868，Sf=32，Lf=244，则Lp=83(吻合，此处ok),此时opt大小为83X83X2,经过softmax转换成83X83的p值\n",
    "        :param roi: 单个ROI区域\n",
    "        :return: opt矩阵\n",
    "        '''\n",
    "        h, w, _ =roi.shape #计算ROI区域面积可求得该ROI区域对应的OPT面积\n",
    "        hp, wp = (h-self.lf)/self.sf+1, (w-self.lf)/self.sf+1\n",
    "        opt = torch.zeros((hp,wp)) #初始化opt\n",
    "        x, y=0, 0 #初始化坐标\n",
    "        for i in range(hp):\n",
    "            for j in range(wp):\n",
    "                x += i*32\n",
    "                y += j*32\n",
    "                opt[i, j] = F.softmax(self.model(roi.crop(x, y, x+244, y+244)),dim = 2) #切割244X244大小的图像作为输入到model并计算p值\n",
    "        return opt\n",
    "\n",
    "\n",
    "\n",
    "    def get_dpt(self, block):\n",
    "        '''\n",
    "        给定一个dpt大小的图像，生成对应的dpt\n",
    "        设image， PIL.Image类\n",
    "        假设Lr= 2868，Sf=32, Sd=Sf/alpha=32/2=16，Lf=244;\n",
    "        block大小应该为2868+（alpha-1）*16 = 2884\n",
    "        由alpha的定义可知 len_dpt = alpha * len_opt, wei_dpt = alpha * len_opt\n",
    "        :param block: 输入dpt对应的图像block\n",
    "        :return:\n",
    "        '''\n",
    "\n",
    "        def reconstruction(dpts,opts):\n",
    "            '''\n",
    "            After scan image, we can reconstuct DPT.\n",
    "            :return:\n",
    "            '''\n",
    "            H, W = dpts.shape\n",
    "            for h_ in range(H):\n",
    "                for w_ in range(W):\n",
    "                    i = h_ % self.alpha\n",
    "                    j = w_ % self.alpha\n",
    "                    h = int(h_ / self.alpha)\n",
    "                    w = int(w_ / self.alpha)\n",
    "                    dpts[h_, w_] = opts[i, j][h, w]\n",
    "            return dpts\n",
    "        x, y = 0, 0\n",
    "        hi, wi,_ = block.shape  #计算块图大小\n",
    "        hp, wp = hi - self.sd *(self.alpha - 1), wi - self.sd * (self.alpha - 1)  #计算ROI区域大小\n",
    "        ho, lo = (hp - self.lf) / self.sf + 1, (wp - self.lf) / self.sf + 1\n",
    "        opts = torch.zeros((self.sd,self.sd,ho,lo)) # 初始化opts矩阵\n",
    "        dpts = torch.zeros(self.alpha*opts.shape)  # 初始化dpts矩阵\n",
    "        for i in range(self.sd):\n",
    "            for j in range(self.sd):\n",
    "                x += i * self.sd\n",
    "                y += j * self.sd\n",
    "                roi = block.crop((x, y, x+hp, y+wp))  # Image.crop(x,y,hp,wp)\n",
    "                opts[i, j] = self.inner_scan(roi)  # 计算ROI区域的P[i,j]\n",
    "        dpts = reconstruction(dpts,opts)\n",
    "        return dpts\n",
    "\n",
    "    def finalprobmap(self,slide_path, max_k=82):\n",
    "        '''\n",
    "        max_k = 82按照paper给的结果换算而成，Lp=83，n=83-1=82,用于调控block的大小\n",
    "        将wsi slide分成多块，然后分开对每个小块求DPT，这里需要提供一个方法解决分块问题，将求得的DPTs缝合起来就得到这张图的最后概率密度图\n",
    "        Hp 代表的是stitched probability map， 或许等于block大小，这里需要测试一下\n",
    "        设ROI的size为 Lr = 244 + 32k,则 Block的size= ROI+16=260+32k\n",
    "        :param wsi: 输入整张wsi\n",
    "        :return:fpm 返回最后的概率值\n",
    "        '''\n",
    "        slide = openslide.open_slide(slide_path)\n",
    "        h, w = slide.dimensions\n",
    "        kh, kw = (h-260)/self.sf,(w-260)/self.sf  #求w,h对应的k的值\n",
    "        nh, nw = int(kh/max_k), int(kw/max_k)  # 分别求w,h上分割的个数\n",
    "        h, w= 0, 0\n",
    "        dpts={}\n",
    "        for i in range(nh):\n",
    "            for j in range(nw):\n",
    "                h += i * (max_k*32+260)\n",
    "                w += j * (max_k*32+260)\n",
    "                block = slide.read_region(h,w,0,(max_k*32+260,max_k*32+260))\n",
    "                dpts['%d_%d'%(i,j)]=self.get_dpt(block)\n",
    "        # 计算最后剩余区域\n",
    "\n",
    "        hp = (h - self.lf/2)/self.sd\n",
    "        wp = (w - self.lf/2)/self.sd\n",
    "        fpm = torch.zeros(hp,wp)\n",
    "        return fpm"
   ]
  },
  {
   "cell_type": "code",
   "execution_count": 6,
   "metadata": {},
   "outputs": [
    {
     "name": "stdout",
     "output_type": "stream",
     "text": [
      "total slide : 129\n"
     ]
    }
   ],
   "source": [
    "import glob,os\n",
    "test_slide_folder = '/root/workspace/dataset/CAMELYON16/testing/images/'\n",
    "test_slide_annotation_folder = '/root/workspace/dataset/CAMELYON16/testing/lesion_annotations/'\n",
    "\n",
    "train_slide_folder = '/root/workspace/dataset/CAMELYON16/training/*'\n",
    "train_slide_annotation_folder = '/root/workspace/dataset/CAMELYON16/training/lesion_annotations/'\n",
    "slide_list = glob.glob(os.path.join(test_slide_folder, '*.tif'))\n",
    "slide_list.sort()\n",
    "print('total slide : %d' % len(slide_list))"
   ]
  },
  {
   "cell_type": "code",
   "execution_count": 9,
   "metadata": {},
   "outputs": [],
   "source": [
    "test_slide=slide_list[0]"
   ]
  },
  {
   "cell_type": "code",
   "execution_count": 12,
   "metadata": {},
   "outputs": [
    {
     "ename": "ValueError",
     "evalue": "attempted relative import beyond top-level package",
     "output_type": "error",
     "traceback": [
      "\u001b[0;31m---------------------------------------------------------------------------\u001b[0m",
      "\u001b[0;31mValueError\u001b[0m                                Traceback (most recent call last)",
      "\u001b[0;32m<ipython-input-12-7725d26fb207>\u001b[0m in \u001b[0;36m<module>\u001b[0;34m\u001b[0m\n\u001b[0;32m----> 1\u001b[0;31m \u001b[0;32mfrom \u001b[0m \u001b[0;34m.\u001b[0m\u001b[0;34m.\u001b[0m\u001b[0mbasic\u001b[0m\u001b[0;34m.\u001b[0m\u001b[0mmodel\u001b[0m\u001b[0;34m.\u001b[0m\u001b[0mscannet\u001b[0m \u001b[0;32mimport\u001b[0m \u001b[0mScannet\u001b[0m\u001b[0;34m\u001b[0m\u001b[0;34m\u001b[0m\u001b[0m\n\u001b[0m",
      "\u001b[0;31mValueError\u001b[0m: attempted relative import beyond top-level package"
     ]
    }
   ],
   "source": [
    "from  ..basic.model.scannet import Scannet"
   ]
  },
  {
   "cell_type": "code",
   "execution_count": null,
   "metadata": {},
   "outputs": [],
   "source": []
  }
 ],
 "metadata": {
  "kernelspec": {
   "display_name": "Python 3",
   "language": "python",
   "name": "python3"
  },
  "language_info": {
   "codemirror_mode": {
    "name": "ipython",
    "version": 3
   },
   "file_extension": ".py",
   "mimetype": "text/x-python",
   "name": "python",
   "nbconvert_exporter": "python",
   "pygments_lexer": "ipython3",
   "version": "3.6.8"
  }
 },
 "nbformat": 4,
 "nbformat_minor": 4
}
